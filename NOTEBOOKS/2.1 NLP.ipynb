{
 "cells": [
  {
   "cell_type": "markdown",
   "id": "wireless-arrival",
   "metadata": {},
   "source": [
    "# Natural language processing (NLP)\n",
    "\n",
    "Popular libraries for NLP include:\n",
    "\n",
    "**[NLTK (Natural Language Toolkit)](https://www.nltk.org/howto.html):** NLTK is a comprehensive library used for various natural language processing tasks. It provides tools for tasks like breaking text into words, identifying word meanings, and more.\n",
    "\n",
    "**[spaCy](https://spacy.io/):** spaCy is a modern library known for its efficiency and ease of use. It excels in tasks such as determining the grammatical components of a sentence, recognizing named entities like people or places, and analyzing sentence structures.\n",
    "\n",
    "**[Gensim](https://radimrehurek.com/gensim/):** Gensim focuses on uncovering themes within text documents and gauging their similarity. It's valuable for summarizing articles, extracting key topics, and comparing documents to understand their relationships.\n",
    "\n",
    "**(Hugging Face) Transformers:** This library offers advanced models for various NLP tasks, leveraging large-scale pre-training to achieve state-of-the-art performance in tasks such as language translation and text summarization. We will dive deeper into this topic in the <font color='red'><b>next notebook</b></font>.\n",
    "\n",
    "**AllenNLP:** AllenNLP is a framework designed on PyTorch tailored for deep learning applications in NLP. It can be found on GitHub.\n",
    "\n",
    "**FastText:** Developed by Facebook Research, FastText is efficient for learning word representations and text classification, particularly useful for tasks involving large datasets where speed is crucial. It can be found on GitHub.\n",
    "\n",
    "**[TextBlob](https://textblob.readthedocs.io/en/dev/):** TextBlob is a simple and easy-to-use library that's good for getting started with NLP. It can do things like figure out if a sentence is positive or negative or tell you what language a piece of text is in."
   ]
  },
  {
   "cell_type": "markdown",
   "id": "prescribed-happiness",
   "metadata": {},
   "source": [
    "## Exercise\n",
    "\n",
    "Follow one of the links in the text above (to NLTK, spaCy, Gensim, or TextBlob), and pick out one of the examples/tutorials. Discuss the code in your group and identify the important functionalities and commands. Design your own example and create a few exercises based on your code example, pointing users to methods and applications that your example does not cover."
   ]
  },
  {
   "cell_type": "code",
   "execution_count": null,
   "id": "given-makeup",
   "metadata": {},
   "outputs": [],
   "source": []
  }
 ],
 "metadata": {
  "kernelspec": {
   "display_name": "Python 3",
   "language": "python",
   "name": "python3"
  },
  "language_info": {
   "codemirror_mode": {
    "name": "ipython",
    "version": 3
   },
   "file_extension": ".py",
   "mimetype": "text/x-python",
   "name": "python",
   "nbconvert_exporter": "python",
   "pygments_lexer": "ipython3",
   "version": "3.6.9"
  }
 },
 "nbformat": 4,
 "nbformat_minor": 5
}
