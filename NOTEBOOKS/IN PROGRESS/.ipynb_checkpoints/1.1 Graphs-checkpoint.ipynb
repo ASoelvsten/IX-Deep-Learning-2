{
 "cells": [
  {
   "cell_type": "markdown",
   "metadata": {
    "id": "WHfGKiva-a0k"
   },
   "source": [
    "# Graphs\n",
    "\n",
    "In the following notebooks, we will delve into the topic of graph neural networks. But to do so, we first have to understand the data that GNNs deal with. So, what are graphs?\n",
    "\n",
    "Here, we will cover some of the basics, including essential terminology and "
   ]
  },
  {
   "cell_type": "code",
   "execution_count": 1,
   "metadata": {
    "executionInfo": {
     "elapsed": 10429,
     "status": "ok",
     "timestamp": 1711817705781,
     "user": {
      "displayName": "Andreas Jørgensen",
      "userId": "05657265304641127249"
     },
     "user_tz": 0
    },
    "id": "gVBirvtu-Vt9"
   },
   "outputs": [],
   "source": [
    "import networkx as nx"
   ]
  },
  {
   "cell_type": "code",
   "execution_count": null,
   "metadata": {},
   "outputs": [],
   "source": []
  }
 ],
 "metadata": {
  "colab": {
   "authorship_tag": "ABX9TyMd2/bmlCukx/4UGZV2RPus",
   "provenance": []
  },
  "kernelspec": {
   "display_name": "Python 3",
   "language": "python",
   "name": "python3"
  },
  "language_info": {
   "codemirror_mode": {
    "name": "ipython",
    "version": 3
   },
   "file_extension": ".py",
   "mimetype": "text/x-python",
   "name": "python",
   "nbconvert_exporter": "python",
   "pygments_lexer": "ipython3",
   "version": "3.6.9"
  }
 },
 "nbformat": 4,
 "nbformat_minor": 1
}
