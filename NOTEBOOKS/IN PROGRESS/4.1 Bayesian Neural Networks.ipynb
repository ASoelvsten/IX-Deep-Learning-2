{
 "cells": [
  {
   "cell_type": "markdown",
   "id": "million-benjamin",
   "metadata": {},
   "source": [
    "https://colab.research.google.com/github/pytorch/pytorch.github.io/blob/master/assets/hub/facebookresearch_pytorch-gan-zoo_pgan.ipynb\n",
    "\n",
    "https://pytorch.org/tutorials/beginner/dcgan_faces_tutorial.html#what-is-a-gan\n",
    "\n",
    "https://www.kaggle.com/code/ollibolli/monetifying-photos-with-basic-gan-in-pytorch"
   ]
  },
  {
   "cell_type": "code",
   "execution_count": null,
   "id": "multiple-donna",
   "metadata": {},
   "outputs": [],
   "source": []
  }
 ],
 "metadata": {
  "kernelspec": {
   "display_name": "Python 3",
   "language": "python",
   "name": "python3"
  },
  "language_info": {
   "codemirror_mode": {
    "name": "ipython",
    "version": 3
   },
   "file_extension": ".py",
   "mimetype": "text/x-python",
   "name": "python",
   "nbconvert_exporter": "python",
   "pygments_lexer": "ipython3",
   "version": "3.6.9"
  }
 },
 "nbformat": 4,
 "nbformat_minor": 5
}
